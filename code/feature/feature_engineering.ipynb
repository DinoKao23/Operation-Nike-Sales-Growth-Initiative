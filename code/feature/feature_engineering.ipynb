{
 "cells": [
  {
   "cell_type": "code",
   "execution_count": 42,
   "metadata": {},
   "outputs": [],
   "source": [
    "import pandas as pd\n",
    "\n",
    "from sklearn.model_selection import train_test_split\n",
    "from sklearn.linear_model import LinearRegression\n",
    "from sklearn.metrics import mean_squared_error, r2_score\n",
    "from sklearn.preprocessing import LabelEncoder, OneHotEncoder\n",
    "\n",
    "import pickle\n"
   ]
  },
  {
   "cell_type": "code",
   "execution_count": 29,
   "metadata": {},
   "outputs": [
    {
     "name": "stderr",
     "output_type": "stream",
     "text": [
      "C:\\Windows\\Temp\\ipykernel_2416\\1606241303.py:1: DtypeWarning: Columns (17,18,19,20,21,23) have mixed types. Specify dtype option on import or set low_memory=False.\n",
      "  df = pd.read_csv('tran_prod_cust .csv')\n"
     ]
    }
   ],
   "source": [
    "df = pd.read_csv('tran_prod_cust .csv')"
   ]
  },
  {
   "cell_type": "code",
   "execution_count": 30,
   "metadata": {},
   "outputs": [],
   "source": [
    "df.drop(['GivenName','Surname','StreetAddress','ZipCode', 'City','PRODUCT_NAME', 'CATEGORY', 'COLOR_CODE', 'TITLE'], axis = 1, inplace = True)"
   ]
  },
  {
   "cell_type": "code",
   "execution_count": 31,
   "metadata": {},
   "outputs": [
    {
     "data": {
      "text/html": [
       "<div>\n",
       "<style scoped>\n",
       "    .dataframe tbody tr th:only-of-type {\n",
       "        vertical-align: middle;\n",
       "    }\n",
       "\n",
       "    .dataframe tbody tr th {\n",
       "        vertical-align: top;\n",
       "    }\n",
       "\n",
       "    .dataframe thead th {\n",
       "        text-align: right;\n",
       "    }\n",
       "</style>\n",
       "<table border=\"1\" class=\"dataframe\">\n",
       "  <thead>\n",
       "    <tr style=\"text-align: right;\">\n",
       "      <th></th>\n",
       "      <th>DEPARTMENT</th>\n",
       "      <th>SUBCATEGORY</th>\n",
       "      <th>PRODUCT_TYPE</th>\n",
       "      <th>IS_BESTSELLER</th>\n",
       "      <th>COLOR</th>\n",
       "      <th>PRICE_CURRENT</th>\n",
       "      <th>UserId</th>\n",
       "      <th>TransactionId</th>\n",
       "      <th>TransactionTime</th>\n",
       "      <th>ItemCode</th>\n",
       "      <th>NumberOfItemsPurchased</th>\n",
       "      <th>PRICE_RETAIL</th>\n",
       "      <th>revenue</th>\n",
       "      <th>State</th>\n",
       "      <th>Birthday</th>\n",
       "      <th>Age</th>\n",
       "    </tr>\n",
       "  </thead>\n",
       "  <tbody>\n",
       "    <tr>\n",
       "      <th>0</th>\n",
       "      <td>Kids</td>\n",
       "      <td>Hats</td>\n",
       "      <td>APPAREL</td>\n",
       "      <td>False</td>\n",
       "      <td>Light Menta/Barely Green</td>\n",
       "      <td>16.95</td>\n",
       "      <td>185792</td>\n",
       "      <td>60595023</td>\n",
       "      <td>2/17/2019 8:18</td>\n",
       "      <td>12231348</td>\n",
       "      <td>10</td>\n",
       "      <td>16.95</td>\n",
       "      <td>169.50</td>\n",
       "      <td>WA</td>\n",
       "      <td>9/23/1986</td>\n",
       "      <td>37.0</td>\n",
       "    </tr>\n",
       "    <tr>\n",
       "      <th>1</th>\n",
       "      <td>Kids</td>\n",
       "      <td>Hats</td>\n",
       "      <td>APPAREL</td>\n",
       "      <td>False</td>\n",
       "      <td>Light Menta/Barely Green</td>\n",
       "      <td>16.95</td>\n",
       "      <td>108854</td>\n",
       "      <td>12058664</td>\n",
       "      <td>7/24/2018 10:46</td>\n",
       "      <td>12231348</td>\n",
       "      <td>6</td>\n",
       "      <td>16.95</td>\n",
       "      <td>101.70</td>\n",
       "      <td>FL</td>\n",
       "      <td>8/6/1945</td>\n",
       "      <td>78.0</td>\n",
       "    </tr>\n",
       "    <tr>\n",
       "      <th>2</th>\n",
       "      <td>Kids</td>\n",
       "      <td>Hats</td>\n",
       "      <td>APPAREL</td>\n",
       "      <td>False</td>\n",
       "      <td>Light Menta/Barely Green</td>\n",
       "      <td>16.95</td>\n",
       "      <td>193153</td>\n",
       "      <td>38728736</td>\n",
       "      <td>2/21/2018 7:42</td>\n",
       "      <td>12231348</td>\n",
       "      <td>9</td>\n",
       "      <td>16.95</td>\n",
       "      <td>152.55</td>\n",
       "      <td>PA</td>\n",
       "      <td>4/24/1975</td>\n",
       "      <td>48.0</td>\n",
       "    </tr>\n",
       "    <tr>\n",
       "      <th>3</th>\n",
       "      <td>Kids</td>\n",
       "      <td>Hats</td>\n",
       "      <td>APPAREL</td>\n",
       "      <td>False</td>\n",
       "      <td>Light Menta/Barely Green</td>\n",
       "      <td>16.95</td>\n",
       "      <td>151472</td>\n",
       "      <td>50903069</td>\n",
       "      <td>10/12/2018 10:39</td>\n",
       "      <td>12231348</td>\n",
       "      <td>10</td>\n",
       "      <td>16.95</td>\n",
       "      <td>169.50</td>\n",
       "      <td>NY</td>\n",
       "      <td>9/16/1998</td>\n",
       "      <td>25.0</td>\n",
       "    </tr>\n",
       "    <tr>\n",
       "      <th>4</th>\n",
       "      <td>Kids</td>\n",
       "      <td>Hats</td>\n",
       "      <td>APPAREL</td>\n",
       "      <td>False</td>\n",
       "      <td>Light Menta/Barely Green</td>\n",
       "      <td>16.95</td>\n",
       "      <td>196977</td>\n",
       "      <td>95424449</td>\n",
       "      <td>1/29/2019 9:16</td>\n",
       "      <td>12231348</td>\n",
       "      <td>10</td>\n",
       "      <td>16.95</td>\n",
       "      <td>169.50</td>\n",
       "      <td>CA</td>\n",
       "      <td>3/24/1980</td>\n",
       "      <td>44.0</td>\n",
       "    </tr>\n",
       "  </tbody>\n",
       "</table>\n",
       "</div>"
      ],
      "text/plain": [
       "  DEPARTMENT SUBCATEGORY PRODUCT_TYPE  IS_BESTSELLER  \\\n",
       "0       Kids        Hats      APPAREL          False   \n",
       "1       Kids        Hats      APPAREL          False   \n",
       "2       Kids        Hats      APPAREL          False   \n",
       "3       Kids        Hats      APPAREL          False   \n",
       "4       Kids        Hats      APPAREL          False   \n",
       "\n",
       "                      COLOR  PRICE_CURRENT  UserId  TransactionId  \\\n",
       "0  Light Menta/Barely Green          16.95  185792       60595023   \n",
       "1  Light Menta/Barely Green          16.95  108854       12058664   \n",
       "2  Light Menta/Barely Green          16.95  193153       38728736   \n",
       "3  Light Menta/Barely Green          16.95  151472       50903069   \n",
       "4  Light Menta/Barely Green          16.95  196977       95424449   \n",
       "\n",
       "    TransactionTime  ItemCode  NumberOfItemsPurchased  PRICE_RETAIL  revenue  \\\n",
       "0    2/17/2019 8:18  12231348                      10         16.95   169.50   \n",
       "1   7/24/2018 10:46  12231348                       6         16.95   101.70   \n",
       "2    2/21/2018 7:42  12231348                       9         16.95   152.55   \n",
       "3  10/12/2018 10:39  12231348                      10         16.95   169.50   \n",
       "4    1/29/2019 9:16  12231348                      10         16.95   169.50   \n",
       "\n",
       "  State   Birthday   Age  \n",
       "0    WA  9/23/1986  37.0  \n",
       "1    FL   8/6/1945  78.0  \n",
       "2    PA  4/24/1975  48.0  \n",
       "3    NY  9/16/1998  25.0  \n",
       "4    CA  3/24/1980  44.0  "
      ]
     },
     "execution_count": 31,
     "metadata": {},
     "output_type": "execute_result"
    }
   ],
   "source": [
    "df.head()"
   ]
  },
  {
   "cell_type": "code",
   "execution_count": 32,
   "metadata": {},
   "outputs": [],
   "source": [
    "# Initialize LabelEncoders\n",
    "department_encoder = LabelEncoder()\n",
    "subcategory_encoder = LabelEncoder()\n",
    "product_type_encoder = LabelEncoder()\n",
    "color_encoder = LabelEncoder()\n",
    "state_encoder = LabelEncoder()\n",
    "is_bestseller_encoder = LabelEncoder()\n",
    "\n",
    "# Fit and transform each column with its respective encoder\n",
    "df['DEPARTMENT'] = department_encoder.fit_transform(df['DEPARTMENT'])\n",
    "df['SUBCATEGORY'] = subcategory_encoder.fit_transform(df['SUBCATEGORY'])\n",
    "df['PRODUCT_TYPE'] = product_type_encoder.fit_transform(df['PRODUCT_TYPE'])\n",
    "df['COLOR'] = color_encoder.fit_transform(df['COLOR'])\n",
    "df['State'] = state_encoder.fit_transform(df['State'])\n",
    "df['IS_BESTSELLER'] = is_bestseller_encoder.fit_transform(df['IS_BESTSELLER'])\n"
   ]
  },
  {
   "cell_type": "code",
   "execution_count": 36,
   "metadata": {},
   "outputs": [],
   "source": [
    "df['TransactionTime'] = pd.to_datetime(df['TransactionTime'])\n",
    "df['month'] = df['TransactionTime'].dt.month\n",
    "df['day'] = df['TransactionTime'].dt.day"
   ]
  },
  {
   "cell_type": "code",
   "execution_count": 37,
   "metadata": {},
   "outputs": [],
   "source": [
    "df.drop(['TransactionTime', 'Birthday', 'TransactionId', 'UserId', 'PRICE_CURRENT','NumberOfItemsPurchased','PRICE_CURRENT'], axis = 1, inplace = True)"
   ]
  },
  {
   "cell_type": "code",
   "execution_count": 38,
   "metadata": {},
   "outputs": [
    {
     "data": {
      "text/html": [
       "<div>\n",
       "<style scoped>\n",
       "    .dataframe tbody tr th:only-of-type {\n",
       "        vertical-align: middle;\n",
       "    }\n",
       "\n",
       "    .dataframe tbody tr th {\n",
       "        vertical-align: top;\n",
       "    }\n",
       "\n",
       "    .dataframe thead th {\n",
       "        text-align: right;\n",
       "    }\n",
       "</style>\n",
       "<table border=\"1\" class=\"dataframe\">\n",
       "  <thead>\n",
       "    <tr style=\"text-align: right;\">\n",
       "      <th></th>\n",
       "      <th>DEPARTMENT</th>\n",
       "      <th>SUBCATEGORY</th>\n",
       "      <th>PRODUCT_TYPE</th>\n",
       "      <th>IS_BESTSELLER</th>\n",
       "      <th>COLOR</th>\n",
       "      <th>ItemCode</th>\n",
       "      <th>PRICE_RETAIL</th>\n",
       "      <th>revenue</th>\n",
       "      <th>State</th>\n",
       "      <th>Age</th>\n",
       "      <th>month</th>\n",
       "      <th>day</th>\n",
       "    </tr>\n",
       "  </thead>\n",
       "  <tbody>\n",
       "    <tr>\n",
       "      <th>0</th>\n",
       "      <td>0</td>\n",
       "      <td>6</td>\n",
       "      <td>1</td>\n",
       "      <td>0</td>\n",
       "      <td>1529</td>\n",
       "      <td>12231348</td>\n",
       "      <td>16.95</td>\n",
       "      <td>169.50</td>\n",
       "      <td>48</td>\n",
       "      <td>37.0</td>\n",
       "      <td>2</td>\n",
       "      <td>17</td>\n",
       "    </tr>\n",
       "    <tr>\n",
       "      <th>1</th>\n",
       "      <td>0</td>\n",
       "      <td>6</td>\n",
       "      <td>1</td>\n",
       "      <td>0</td>\n",
       "      <td>1529</td>\n",
       "      <td>12231348</td>\n",
       "      <td>16.95</td>\n",
       "      <td>101.70</td>\n",
       "      <td>9</td>\n",
       "      <td>78.0</td>\n",
       "      <td>7</td>\n",
       "      <td>24</td>\n",
       "    </tr>\n",
       "    <tr>\n",
       "      <th>2</th>\n",
       "      <td>0</td>\n",
       "      <td>6</td>\n",
       "      <td>1</td>\n",
       "      <td>0</td>\n",
       "      <td>1529</td>\n",
       "      <td>12231348</td>\n",
       "      <td>16.95</td>\n",
       "      <td>152.55</td>\n",
       "      <td>39</td>\n",
       "      <td>48.0</td>\n",
       "      <td>2</td>\n",
       "      <td>21</td>\n",
       "    </tr>\n",
       "    <tr>\n",
       "      <th>3</th>\n",
       "      <td>0</td>\n",
       "      <td>6</td>\n",
       "      <td>1</td>\n",
       "      <td>0</td>\n",
       "      <td>1529</td>\n",
       "      <td>12231348</td>\n",
       "      <td>16.95</td>\n",
       "      <td>169.50</td>\n",
       "      <td>35</td>\n",
       "      <td>25.0</td>\n",
       "      <td>10</td>\n",
       "      <td>12</td>\n",
       "    </tr>\n",
       "    <tr>\n",
       "      <th>4</th>\n",
       "      <td>0</td>\n",
       "      <td>6</td>\n",
       "      <td>1</td>\n",
       "      <td>0</td>\n",
       "      <td>1529</td>\n",
       "      <td>12231348</td>\n",
       "      <td>16.95</td>\n",
       "      <td>169.50</td>\n",
       "      <td>4</td>\n",
       "      <td>44.0</td>\n",
       "      <td>1</td>\n",
       "      <td>29</td>\n",
       "    </tr>\n",
       "  </tbody>\n",
       "</table>\n",
       "</div>"
      ],
      "text/plain": [
       "   DEPARTMENT  SUBCATEGORY  PRODUCT_TYPE  IS_BESTSELLER  COLOR  ItemCode  \\\n",
       "0           0            6             1              0   1529  12231348   \n",
       "1           0            6             1              0   1529  12231348   \n",
       "2           0            6             1              0   1529  12231348   \n",
       "3           0            6             1              0   1529  12231348   \n",
       "4           0            6             1              0   1529  12231348   \n",
       "\n",
       "   PRICE_RETAIL  revenue  State   Age  month  day  \n",
       "0         16.95   169.50     48  37.0      2   17  \n",
       "1         16.95   101.70      9  78.0      7   24  \n",
       "2         16.95   152.55     39  48.0      2   21  \n",
       "3         16.95   169.50     35  25.0     10   12  \n",
       "4         16.95   169.50      4  44.0      1   29  "
      ]
     },
     "execution_count": 38,
     "metadata": {},
     "output_type": "execute_result"
    }
   ],
   "source": [
    "df.head()"
   ]
  },
  {
   "cell_type": "code",
   "execution_count": 39,
   "metadata": {},
   "outputs": [
    {
     "data": {
      "text/plain": [
       "(1048575, 12)"
      ]
     },
     "execution_count": 39,
     "metadata": {},
     "output_type": "execute_result"
    }
   ],
   "source": [
    "df.shape"
   ]
  },
  {
   "cell_type": "code",
   "execution_count": 40,
   "metadata": {},
   "outputs": [],
   "source": [
    "df.dropna(inplace = True)"
   ]
  },
  {
   "cell_type": "code",
   "execution_count": 41,
   "metadata": {},
   "outputs": [
    {
     "data": {
      "text/plain": [
       "(810540, 12)"
      ]
     },
     "execution_count": 41,
     "metadata": {},
     "output_type": "execute_result"
    }
   ],
   "source": [
    "df.shape"
   ]
  },
  {
   "cell_type": "code",
   "execution_count": 43,
   "metadata": {},
   "outputs": [],
   "source": [
    "encoders = {\n",
    "    'department_encoder': department_encoder,\n",
    "    'subcategory_encoder': subcategory_encoder,\n",
    "    'product_type_encoder': product_type_encoder,\n",
    "    'color_encoder': color_encoder,\n",
    "    'state_encoder': state_encoder,\n",
    "    'is_bestseller_encoder': is_bestseller_encoder\n",
    "}\n",
    "\n",
    "# Save all encoder instances\n",
    "for name, encoder in encoders.items():\n",
    "    with open(f'{name}.pkl', 'wb') as f:\n",
    "        pickle.dump(encoder, f)\n"
   ]
  }
 ],
 "metadata": {
  "kernelspec": {
   "display_name": "Python 3",
   "language": "python",
   "name": "python3"
  },
  "language_info": {
   "codemirror_mode": {
    "name": "ipython",
    "version": 3
   },
   "file_extension": ".py",
   "mimetype": "text/x-python",
   "name": "python",
   "nbconvert_exporter": "python",
   "pygments_lexer": "ipython3",
   "version": "3.11.5"
  }
 },
 "nbformat": 4,
 "nbformat_minor": 2
}
