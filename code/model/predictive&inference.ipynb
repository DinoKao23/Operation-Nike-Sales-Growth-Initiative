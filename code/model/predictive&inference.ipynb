{
 "cells": [
  {
   "cell_type": "code",
   "execution_count": 68,
   "metadata": {},
   "outputs": [],
   "source": [
    "import pandas as pd\n",
    "\n",
    "from sklearn.model_selection import train_test_split\n",
    "from sklearn.linear_model import LinearRegression\n",
    "from sklearn.metrics import mean_squared_error, r2_score\n",
    "import pickle\n",
    "\n",
    "import random"
   ]
  },
  {
   "cell_type": "code",
   "execution_count": 40,
   "metadata": {},
   "outputs": [
    {
     "name": "stderr",
     "output_type": "stream",
     "text": [
      "C:\\Windows\\Temp\\ipykernel_29948\\1606241303.py:1: DtypeWarning: Columns (17,18,19,20,21,23) have mixed types. Specify dtype option on import or set low_memory=False.\n",
      "  df = pd.read_csv('tran_prod_cust .csv')\n"
     ]
    }
   ],
   "source": [
    "df = pd.read_csv('tran_prod_cust .csv')"
   ]
  },
  {
   "cell_type": "code",
   "execution_count": 41,
   "metadata": {},
   "outputs": [],
   "source": [
    "df.drop(['GivenName','Surname','StreetAddress','ZipCode', 'City','PRODUCT_NAME', 'CATEGORY', 'COLOR_CODE', 'TITLE','PRODUCT_TYPE'], axis = 1, inplace = True)"
   ]
  },
  {
   "cell_type": "code",
   "execution_count": 42,
   "metadata": {},
   "outputs": [
    {
     "data": {
      "text/html": [
       "<div>\n",
       "<style scoped>\n",
       "    .dataframe tbody tr th:only-of-type {\n",
       "        vertical-align: middle;\n",
       "    }\n",
       "\n",
       "    .dataframe tbody tr th {\n",
       "        vertical-align: top;\n",
       "    }\n",
       "\n",
       "    .dataframe thead th {\n",
       "        text-align: right;\n",
       "    }\n",
       "</style>\n",
       "<table border=\"1\" class=\"dataframe\">\n",
       "  <thead>\n",
       "    <tr style=\"text-align: right;\">\n",
       "      <th></th>\n",
       "      <th>DEPARTMENT</th>\n",
       "      <th>SUBCATEGORY</th>\n",
       "      <th>IS_BESTSELLER</th>\n",
       "      <th>COLOR</th>\n",
       "      <th>PRICE_CURRENT</th>\n",
       "      <th>UserId</th>\n",
       "      <th>TransactionId</th>\n",
       "      <th>TransactionTime</th>\n",
       "      <th>ItemCode</th>\n",
       "      <th>NumberOfItemsPurchased</th>\n",
       "      <th>PRICE_RETAIL</th>\n",
       "      <th>revenue</th>\n",
       "      <th>State</th>\n",
       "      <th>Birthday</th>\n",
       "      <th>Age</th>\n",
       "    </tr>\n",
       "  </thead>\n",
       "  <tbody>\n",
       "    <tr>\n",
       "      <th>0</th>\n",
       "      <td>Kids</td>\n",
       "      <td>Hats</td>\n",
       "      <td>False</td>\n",
       "      <td>Light Menta/Barely Green</td>\n",
       "      <td>16.95</td>\n",
       "      <td>185792</td>\n",
       "      <td>60595023</td>\n",
       "      <td>2/17/2019 8:18</td>\n",
       "      <td>12231348</td>\n",
       "      <td>10</td>\n",
       "      <td>16.95</td>\n",
       "      <td>169.50</td>\n",
       "      <td>WA</td>\n",
       "      <td>9/23/1986</td>\n",
       "      <td>37.0</td>\n",
       "    </tr>\n",
       "    <tr>\n",
       "      <th>1</th>\n",
       "      <td>Kids</td>\n",
       "      <td>Hats</td>\n",
       "      <td>False</td>\n",
       "      <td>Light Menta/Barely Green</td>\n",
       "      <td>16.95</td>\n",
       "      <td>108854</td>\n",
       "      <td>12058664</td>\n",
       "      <td>7/24/2018 10:46</td>\n",
       "      <td>12231348</td>\n",
       "      <td>6</td>\n",
       "      <td>16.95</td>\n",
       "      <td>101.70</td>\n",
       "      <td>FL</td>\n",
       "      <td>8/6/1945</td>\n",
       "      <td>78.0</td>\n",
       "    </tr>\n",
       "    <tr>\n",
       "      <th>2</th>\n",
       "      <td>Kids</td>\n",
       "      <td>Hats</td>\n",
       "      <td>False</td>\n",
       "      <td>Light Menta/Barely Green</td>\n",
       "      <td>16.95</td>\n",
       "      <td>193153</td>\n",
       "      <td>38728736</td>\n",
       "      <td>2/21/2018 7:42</td>\n",
       "      <td>12231348</td>\n",
       "      <td>9</td>\n",
       "      <td>16.95</td>\n",
       "      <td>152.55</td>\n",
       "      <td>PA</td>\n",
       "      <td>4/24/1975</td>\n",
       "      <td>48.0</td>\n",
       "    </tr>\n",
       "    <tr>\n",
       "      <th>3</th>\n",
       "      <td>Kids</td>\n",
       "      <td>Hats</td>\n",
       "      <td>False</td>\n",
       "      <td>Light Menta/Barely Green</td>\n",
       "      <td>16.95</td>\n",
       "      <td>151472</td>\n",
       "      <td>50903069</td>\n",
       "      <td>10/12/2018 10:39</td>\n",
       "      <td>12231348</td>\n",
       "      <td>10</td>\n",
       "      <td>16.95</td>\n",
       "      <td>169.50</td>\n",
       "      <td>NY</td>\n",
       "      <td>9/16/1998</td>\n",
       "      <td>25.0</td>\n",
       "    </tr>\n",
       "    <tr>\n",
       "      <th>4</th>\n",
       "      <td>Kids</td>\n",
       "      <td>Hats</td>\n",
       "      <td>False</td>\n",
       "      <td>Light Menta/Barely Green</td>\n",
       "      <td>16.95</td>\n",
       "      <td>196977</td>\n",
       "      <td>95424449</td>\n",
       "      <td>1/29/2019 9:16</td>\n",
       "      <td>12231348</td>\n",
       "      <td>10</td>\n",
       "      <td>16.95</td>\n",
       "      <td>169.50</td>\n",
       "      <td>CA</td>\n",
       "      <td>3/24/1980</td>\n",
       "      <td>44.0</td>\n",
       "    </tr>\n",
       "  </tbody>\n",
       "</table>\n",
       "</div>"
      ],
      "text/plain": [
       "  DEPARTMENT SUBCATEGORY  IS_BESTSELLER                     COLOR  \\\n",
       "0       Kids        Hats          False  Light Menta/Barely Green   \n",
       "1       Kids        Hats          False  Light Menta/Barely Green   \n",
       "2       Kids        Hats          False  Light Menta/Barely Green   \n",
       "3       Kids        Hats          False  Light Menta/Barely Green   \n",
       "4       Kids        Hats          False  Light Menta/Barely Green   \n",
       "\n",
       "   PRICE_CURRENT  UserId  TransactionId   TransactionTime  ItemCode  \\\n",
       "0          16.95  185792       60595023    2/17/2019 8:18  12231348   \n",
       "1          16.95  108854       12058664   7/24/2018 10:46  12231348   \n",
       "2          16.95  193153       38728736    2/21/2018 7:42  12231348   \n",
       "3          16.95  151472       50903069  10/12/2018 10:39  12231348   \n",
       "4          16.95  196977       95424449    1/29/2019 9:16  12231348   \n",
       "\n",
       "   NumberOfItemsPurchased  PRICE_RETAIL  revenue State   Birthday   Age  \n",
       "0                      10         16.95   169.50    WA  9/23/1986  37.0  \n",
       "1                       6         16.95   101.70    FL   8/6/1945  78.0  \n",
       "2                       9         16.95   152.55    PA  4/24/1975  48.0  \n",
       "3                      10         16.95   169.50    NY  9/16/1998  25.0  \n",
       "4                      10         16.95   169.50    CA  3/24/1980  44.0  "
      ]
     },
     "execution_count": 42,
     "metadata": {},
     "output_type": "execute_result"
    }
   ],
   "source": [
    "df.head()"
   ]
  },
  {
   "cell_type": "code",
   "execution_count": 43,
   "metadata": {},
   "outputs": [],
   "source": [
    "# Initialize LabelEncoders\n",
    "encoder_files = [\n",
    "    'department_encoder.pkl',\n",
    "    'subcategory_encoder.pkl',\n",
    "    'color_encoder.pkl',\n",
    "    'state_encoder.pkl',\n",
    "    'is_bestseller_encoder.pkl'\n",
    "]\n",
    "\n",
    "loaded_encoders = {}\n",
    "\n",
    "for file_name in encoder_files:\n",
    "    with open(file_name, 'rb') as f:\n",
    "        encoder = pickle.load(f)\n",
    "        loaded_encoders[file_name.split('.')[0]] = encoder\n",
    "\n",
    "# Transform DataFrame using loaded encoders\n",
    "df['DEPARTMENT'] = loaded_encoders['department_encoder'].transform(df['DEPARTMENT'])\n",
    "df['SUBCATEGORY'] = loaded_encoders['subcategory_encoder'].transform(df['SUBCATEGORY'])\n",
    "df['COLOR'] = loaded_encoders['color_encoder'].transform(df['COLOR'])\n",
    "df['State'] = loaded_encoders['state_encoder'].transform(df['State'])\n",
    "df['IS_BESTSELLER'] = loaded_encoders['is_bestseller_encoder'].transform(df['IS_BESTSELLER'])\n"
   ]
  },
  {
   "cell_type": "code",
   "execution_count": 44,
   "metadata": {},
   "outputs": [],
   "source": [
    "df['TransactionTime'] = pd.to_datetime(df['TransactionTime'])\n",
    "df['month'] = df['TransactionTime'].dt.month\n",
    "df['day'] = df['TransactionTime'].dt.day"
   ]
  },
  {
   "cell_type": "code",
   "execution_count": 45,
   "metadata": {},
   "outputs": [],
   "source": [
    "df.drop(['TransactionTime', 'Birthday', 'TransactionId', 'UserId', 'PRICE_CURRENT','NumberOfItemsPurchased','PRICE_CURRENT', 'ItemCode'], axis = 1, inplace = True)"
   ]
  },
  {
   "cell_type": "code",
   "execution_count": 46,
   "metadata": {},
   "outputs": [
    {
     "data": {
      "text/html": [
       "<div>\n",
       "<style scoped>\n",
       "    .dataframe tbody tr th:only-of-type {\n",
       "        vertical-align: middle;\n",
       "    }\n",
       "\n",
       "    .dataframe tbody tr th {\n",
       "        vertical-align: top;\n",
       "    }\n",
       "\n",
       "    .dataframe thead th {\n",
       "        text-align: right;\n",
       "    }\n",
       "</style>\n",
       "<table border=\"1\" class=\"dataframe\">\n",
       "  <thead>\n",
       "    <tr style=\"text-align: right;\">\n",
       "      <th></th>\n",
       "      <th>DEPARTMENT</th>\n",
       "      <th>SUBCATEGORY</th>\n",
       "      <th>IS_BESTSELLER</th>\n",
       "      <th>COLOR</th>\n",
       "      <th>PRICE_RETAIL</th>\n",
       "      <th>revenue</th>\n",
       "      <th>State</th>\n",
       "      <th>Age</th>\n",
       "      <th>month</th>\n",
       "      <th>day</th>\n",
       "    </tr>\n",
       "  </thead>\n",
       "  <tbody>\n",
       "    <tr>\n",
       "      <th>0</th>\n",
       "      <td>0</td>\n",
       "      <td>6</td>\n",
       "      <td>0</td>\n",
       "      <td>1529</td>\n",
       "      <td>16.95</td>\n",
       "      <td>169.50</td>\n",
       "      <td>48</td>\n",
       "      <td>37.0</td>\n",
       "      <td>2</td>\n",
       "      <td>17</td>\n",
       "    </tr>\n",
       "    <tr>\n",
       "      <th>1</th>\n",
       "      <td>0</td>\n",
       "      <td>6</td>\n",
       "      <td>0</td>\n",
       "      <td>1529</td>\n",
       "      <td>16.95</td>\n",
       "      <td>101.70</td>\n",
       "      <td>9</td>\n",
       "      <td>78.0</td>\n",
       "      <td>7</td>\n",
       "      <td>24</td>\n",
       "    </tr>\n",
       "    <tr>\n",
       "      <th>2</th>\n",
       "      <td>0</td>\n",
       "      <td>6</td>\n",
       "      <td>0</td>\n",
       "      <td>1529</td>\n",
       "      <td>16.95</td>\n",
       "      <td>152.55</td>\n",
       "      <td>39</td>\n",
       "      <td>48.0</td>\n",
       "      <td>2</td>\n",
       "      <td>21</td>\n",
       "    </tr>\n",
       "    <tr>\n",
       "      <th>3</th>\n",
       "      <td>0</td>\n",
       "      <td>6</td>\n",
       "      <td>0</td>\n",
       "      <td>1529</td>\n",
       "      <td>16.95</td>\n",
       "      <td>169.50</td>\n",
       "      <td>35</td>\n",
       "      <td>25.0</td>\n",
       "      <td>10</td>\n",
       "      <td>12</td>\n",
       "    </tr>\n",
       "    <tr>\n",
       "      <th>4</th>\n",
       "      <td>0</td>\n",
       "      <td>6</td>\n",
       "      <td>0</td>\n",
       "      <td>1529</td>\n",
       "      <td>16.95</td>\n",
       "      <td>169.50</td>\n",
       "      <td>4</td>\n",
       "      <td>44.0</td>\n",
       "      <td>1</td>\n",
       "      <td>29</td>\n",
       "    </tr>\n",
       "  </tbody>\n",
       "</table>\n",
       "</div>"
      ],
      "text/plain": [
       "   DEPARTMENT  SUBCATEGORY  IS_BESTSELLER  COLOR  PRICE_RETAIL  revenue  \\\n",
       "0           0            6              0   1529         16.95   169.50   \n",
       "1           0            6              0   1529         16.95   101.70   \n",
       "2           0            6              0   1529         16.95   152.55   \n",
       "3           0            6              0   1529         16.95   169.50   \n",
       "4           0            6              0   1529         16.95   169.50   \n",
       "\n",
       "   State   Age  month  day  \n",
       "0     48  37.0      2   17  \n",
       "1      9  78.0      7   24  \n",
       "2     39  48.0      2   21  \n",
       "3     35  25.0     10   12  \n",
       "4      4  44.0      1   29  "
      ]
     },
     "execution_count": 46,
     "metadata": {},
     "output_type": "execute_result"
    }
   ],
   "source": [
    "df.head()"
   ]
  },
  {
   "cell_type": "code",
   "execution_count": 48,
   "metadata": {},
   "outputs": [],
   "source": [
    "df.dropna(inplace = True)"
   ]
  },
  {
   "cell_type": "code",
   "execution_count": 50,
   "metadata": {},
   "outputs": [],
   "source": [
    "X = df.drop('revenue', axis = 1)\n",
    "y = df['revenue']"
   ]
  },
  {
   "cell_type": "code",
   "execution_count": 51,
   "metadata": {},
   "outputs": [],
   "source": [
    "X_train, X_test, y_train, y_test = train_test_split(X, y, test_size=0.2, random_state=42)\n"
   ]
  },
  {
   "cell_type": "code",
   "execution_count": 52,
   "metadata": {},
   "outputs": [
    {
     "data": {
      "text/plain": [
       "((648432, 9), (648432,))"
      ]
     },
     "execution_count": 52,
     "metadata": {},
     "output_type": "execute_result"
    }
   ],
   "source": [
    "X_train.shape, y_train.shape"
   ]
  },
  {
   "cell_type": "code",
   "execution_count": 53,
   "metadata": {},
   "outputs": [],
   "source": [
    "model = LinearRegression()\n",
    "\n",
    "model.fit(X_train, y_train)\n",
    "\n",
    "y_pred = model.predict(X_test)\n",
    "\n",
    "mse = mean_squared_error(y_test, y_pred)\n",
    "r2 = r2_score(y_test, y_pred)\n"
   ]
  },
  {
   "cell_type": "code",
   "execution_count": 54,
   "metadata": {},
   "outputs": [
    {
     "name": "stdout",
     "output_type": "stream",
     "text": [
      "Mean Squared Error: 101271.46\n",
      "R^2 Score: 0.57\n"
     ]
    }
   ],
   "source": [
    "print(f\"Mean Squared Error: {mse:.2f}\")\n",
    "print(f\"R^2 Score: {r2:.2f}\")"
   ]
  },
  {
   "cell_type": "markdown",
   "metadata": {},
   "source": [
    "# Without Product Price"
   ]
  },
  {
   "cell_type": "code",
   "execution_count": 55,
   "metadata": {},
   "outputs": [],
   "source": [
    "ddf = df.copy()"
   ]
  },
  {
   "cell_type": "code",
   "execution_count": 56,
   "metadata": {},
   "outputs": [],
   "source": [
    "ddf.drop('PRICE_RETAIL', axis = 1, inplace = True)"
   ]
  },
  {
   "cell_type": "code",
   "execution_count": 57,
   "metadata": {},
   "outputs": [
    {
     "name": "stdout",
     "output_type": "stream",
     "text": [
      "Mean Squared Error: 228722.63\n",
      "R^2 Score: 0.03\n"
     ]
    }
   ],
   "source": [
    "X1 = ddf.drop('revenue', axis = 1)\n",
    "y1 = ddf['revenue']\n",
    "\n",
    "X1_train, X1_test, y1_train, y1_test = train_test_split(X1, y1, test_size=0.2, random_state=42)\n",
    "\n",
    "model_2 = LinearRegression()\n",
    "\n",
    "model_2.fit(X1_train, y1_train)\n",
    "\n",
    "y1_pred = model_2.predict(X1_test)\n",
    "\n",
    "mse_1 = mean_squared_error(y1_test, y1_pred)\n",
    "r2_1 = r2_score(y1_test, y1_pred)\n",
    "\n",
    "print(f\"Mean Squared Error: {mse_1:.2f}\")\n",
    "print(f\"R^2 Score: {r2_1:.2f}\")"
   ]
  },
  {
   "cell_type": "code",
   "execution_count": 58,
   "metadata": {},
   "outputs": [],
   "source": [
    "with open('has_price.pkl', 'wb') as f:\n",
    "    pickle.dump(model, f)\n",
    "\n",
    "with open('no_price.pkl', 'wb') as f:\n",
    "    pickle.dump(model_2, f)"
   ]
  },
  {
   "cell_type": "code",
   "execution_count": 74,
   "metadata": {},
   "outputs": [
    {
     "name": "stderr",
     "output_type": "stream",
     "text": [
      "C:\\Windows\\Temp\\ipykernel_29948\\2542132129.py:1: DtypeWarning: Columns (17,18,19,20,21,23) have mixed types. Specify dtype option on import or set low_memory=False.\n",
      "  new_df = pd.read_csv('tran_prod_cust .csv')\n"
     ]
    }
   ],
   "source": [
    "new_df = pd.read_csv('tran_prod_cust .csv')\n",
    "new_df.dropna(inplace = True)"
   ]
  },
  {
   "cell_type": "code",
   "execution_count": 75,
   "metadata": {},
   "outputs": [
    {
     "data": {
      "text/html": [
       "<div>\n",
       "<style scoped>\n",
       "    .dataframe tbody tr th:only-of-type {\n",
       "        vertical-align: middle;\n",
       "    }\n",
       "\n",
       "    .dataframe tbody tr th {\n",
       "        vertical-align: top;\n",
       "    }\n",
       "\n",
       "    .dataframe thead th {\n",
       "        text-align: right;\n",
       "    }\n",
       "</style>\n",
       "<table border=\"1\" class=\"dataframe\">\n",
       "  <thead>\n",
       "    <tr style=\"text-align: right;\">\n",
       "      <th></th>\n",
       "      <th>DEPARTMENT</th>\n",
       "      <th>CATEGORY</th>\n",
       "      <th>SUBCATEGORY</th>\n",
       "      <th>PRODUCT_NAME</th>\n",
       "      <th>TITLE</th>\n",
       "      <th>PRODUCT_TYPE</th>\n",
       "      <th>IS_BESTSELLER</th>\n",
       "      <th>COLOR</th>\n",
       "      <th>PRICE_CURRENT</th>\n",
       "      <th>COLOR_CODE</th>\n",
       "      <th>...</th>\n",
       "      <th>PRICE_RETAIL</th>\n",
       "      <th>revenue</th>\n",
       "      <th>GivenName</th>\n",
       "      <th>Surname</th>\n",
       "      <th>StreetAddress</th>\n",
       "      <th>City</th>\n",
       "      <th>State</th>\n",
       "      <th>ZipCode</th>\n",
       "      <th>Birthday</th>\n",
       "      <th>Age</th>\n",
       "    </tr>\n",
       "  </thead>\n",
       "  <tbody>\n",
       "    <tr>\n",
       "      <th>18069</th>\n",
       "      <td>Kids</td>\n",
       "      <td>Accessories and Equipment</td>\n",
       "      <td>All Accessories and Equipment</td>\n",
       "      <td>Nike Pro</td>\n",
       "      <td>Kids' Hijab</td>\n",
       "      <td>EQUIPMENT</td>\n",
       "      <td>False</td>\n",
       "      <td>Black/White</td>\n",
       "      <td>25.95</td>\n",
       "      <td>N0003709-010</td>\n",
       "      <td>...</td>\n",
       "      <td>25.95</td>\n",
       "      <td>181.65</td>\n",
       "      <td>Clarence</td>\n",
       "      <td>Barnes</td>\n",
       "      <td>3893 Conference Center Way</td>\n",
       "      <td>Mifflinburg</td>\n",
       "      <td>PA</td>\n",
       "      <td>17844.0</td>\n",
       "      <td>4/4/1957</td>\n",
       "      <td>66.0</td>\n",
       "    </tr>\n",
       "  </tbody>\n",
       "</table>\n",
       "<p>1 rows × 25 columns</p>\n",
       "</div>"
      ],
      "text/plain": [
       "      DEPARTMENT                   CATEGORY                    SUBCATEGORY  \\\n",
       "18069       Kids  Accessories and Equipment  All Accessories and Equipment   \n",
       "\n",
       "      PRODUCT_NAME        TITLE PRODUCT_TYPE  IS_BESTSELLER        COLOR  \\\n",
       "18069     Nike Pro  Kids' Hijab    EQUIPMENT          False  Black/White   \n",
       "\n",
       "       PRICE_CURRENT    COLOR_CODE  ...  PRICE_RETAIL  revenue GivenName  \\\n",
       "18069          25.95  N0003709-010  ...         25.95   181.65  Clarence   \n",
       "\n",
       "       Surname               StreetAddress         City  State  ZipCode  \\\n",
       "18069   Barnes  3893 Conference Center Way  Mifflinburg     PA  17844.0   \n",
       "\n",
       "       Birthday   Age  \n",
       "18069  4/4/1957  66.0  \n",
       "\n",
       "[1 rows x 25 columns]"
      ]
     },
     "execution_count": 75,
     "metadata": {},
     "output_type": "execute_result"
    }
   ],
   "source": [
    "random.seed(42)\n",
    "\n",
    "test_data = new_df.sample(1)\n",
    "test_data"
   ]
  },
  {
   "cell_type": "code",
   "execution_count": 76,
   "metadata": {},
   "outputs": [
    {
     "data": {
      "text/html": [
       "<div>\n",
       "<style scoped>\n",
       "    .dataframe tbody tr th:only-of-type {\n",
       "        vertical-align: middle;\n",
       "    }\n",
       "\n",
       "    .dataframe tbody tr th {\n",
       "        vertical-align: top;\n",
       "    }\n",
       "\n",
       "    .dataframe thead th {\n",
       "        text-align: right;\n",
       "    }\n",
       "</style>\n",
       "<table border=\"1\" class=\"dataframe\">\n",
       "  <thead>\n",
       "    <tr style=\"text-align: right;\">\n",
       "      <th></th>\n",
       "      <th>DEPARTMENT</th>\n",
       "      <th>SUBCATEGORY</th>\n",
       "      <th>IS_BESTSELLER</th>\n",
       "      <th>COLOR</th>\n",
       "      <th>PRICE_RETAIL</th>\n",
       "      <th>State</th>\n",
       "      <th>Age</th>\n",
       "      <th>month</th>\n",
       "      <th>day</th>\n",
       "    </tr>\n",
       "  </thead>\n",
       "  <tbody>\n",
       "    <tr>\n",
       "      <th>18069</th>\n",
       "      <td>Kids</td>\n",
       "      <td>All Accessories and Equipment</td>\n",
       "      <td>False</td>\n",
       "      <td>Black/White</td>\n",
       "      <td>25.95</td>\n",
       "      <td>PA</td>\n",
       "      <td>66.0</td>\n",
       "      <td>7</td>\n",
       "      <td>23</td>\n",
       "    </tr>\n",
       "  </tbody>\n",
       "</table>\n",
       "</div>"
      ],
      "text/plain": [
       "      DEPARTMENT                    SUBCATEGORY  IS_BESTSELLER        COLOR  \\\n",
       "18069       Kids  All Accessories and Equipment          False  Black/White   \n",
       "\n",
       "       PRICE_RETAIL State   Age  month  day  \n",
       "18069         25.95    PA  66.0      7   23  "
      ]
     },
     "execution_count": 76,
     "metadata": {},
     "output_type": "execute_result"
    }
   ],
   "source": [
    "test_data['TransactionTime'] = pd.to_datetime(test_data['TransactionTime'])\n",
    "test_data['month'] = test_data['TransactionTime'].dt.month\n",
    "test_data['day'] = test_data['TransactionTime'].dt.day\n",
    "\n",
    "columns_to_keep = ['DEPARTMENT', 'SUBCATEGORY', 'IS_BESTSELLER', 'COLOR', 'PRICE_RETAIL', 'State', 'Age', 'month', 'day']\n",
    "test_data = test_data[columns_to_keep]\n",
    "test_data"
   ]
  },
  {
   "cell_type": "code",
   "execution_count": 77,
   "metadata": {},
   "outputs": [
    {
     "name": "stderr",
     "output_type": "stream",
     "text": [
      "C:\\Windows\\Temp\\ipykernel_29948\\1722564147.py:1: SettingWithCopyWarning: \n",
      "A value is trying to be set on a copy of a slice from a DataFrame.\n",
      "Try using .loc[row_indexer,col_indexer] = value instead\n",
      "\n",
      "See the caveats in the documentation: https://pandas.pydata.org/pandas-docs/stable/user_guide/indexing.html#returning-a-view-versus-a-copy\n",
      "  test_data['DEPARTMENT'] = loaded_encoders['department_encoder'].transform(test_data['DEPARTMENT'])\n",
      "C:\\Windows\\Temp\\ipykernel_29948\\1722564147.py:2: SettingWithCopyWarning: \n",
      "A value is trying to be set on a copy of a slice from a DataFrame.\n",
      "Try using .loc[row_indexer,col_indexer] = value instead\n",
      "\n",
      "See the caveats in the documentation: https://pandas.pydata.org/pandas-docs/stable/user_guide/indexing.html#returning-a-view-versus-a-copy\n",
      "  test_data['SUBCATEGORY'] = loaded_encoders['subcategory_encoder'].transform(test_data['SUBCATEGORY'])\n",
      "C:\\Windows\\Temp\\ipykernel_29948\\1722564147.py:3: SettingWithCopyWarning: \n",
      "A value is trying to be set on a copy of a slice from a DataFrame.\n",
      "Try using .loc[row_indexer,col_indexer] = value instead\n",
      "\n",
      "See the caveats in the documentation: https://pandas.pydata.org/pandas-docs/stable/user_guide/indexing.html#returning-a-view-versus-a-copy\n",
      "  test_data['COLOR'] = loaded_encoders['color_encoder'].transform(test_data['COLOR'])\n",
      "C:\\Windows\\Temp\\ipykernel_29948\\1722564147.py:4: SettingWithCopyWarning: \n",
      "A value is trying to be set on a copy of a slice from a DataFrame.\n",
      "Try using .loc[row_indexer,col_indexer] = value instead\n",
      "\n",
      "See the caveats in the documentation: https://pandas.pydata.org/pandas-docs/stable/user_guide/indexing.html#returning-a-view-versus-a-copy\n",
      "  test_data['State'] = loaded_encoders['state_encoder'].transform(test_data['State'])\n",
      "C:\\Windows\\Temp\\ipykernel_29948\\1722564147.py:5: SettingWithCopyWarning: \n",
      "A value is trying to be set on a copy of a slice from a DataFrame.\n",
      "Try using .loc[row_indexer,col_indexer] = value instead\n",
      "\n",
      "See the caveats in the documentation: https://pandas.pydata.org/pandas-docs/stable/user_guide/indexing.html#returning-a-view-versus-a-copy\n",
      "  test_data['IS_BESTSELLER'] = loaded_encoders['is_bestseller_encoder'].transform(test_data['IS_BESTSELLER'])\n"
     ]
    }
   ],
   "source": [
    "test_data['DEPARTMENT'] = loaded_encoders['department_encoder'].transform(test_data['DEPARTMENT'])\n",
    "test_data['SUBCATEGORY'] = loaded_encoders['subcategory_encoder'].transform(test_data['SUBCATEGORY'])\n",
    "test_data['COLOR'] = loaded_encoders['color_encoder'].transform(test_data['COLOR'])\n",
    "test_data['State'] = loaded_encoders['state_encoder'].transform(test_data['State'])\n",
    "test_data['IS_BESTSELLER'] = loaded_encoders['is_bestseller_encoder'].transform(test_data['IS_BESTSELLER'])"
   ]
  },
  {
   "cell_type": "code",
   "execution_count": 78,
   "metadata": {},
   "outputs": [
    {
     "data": {
      "text/html": [
       "<div>\n",
       "<style scoped>\n",
       "    .dataframe tbody tr th:only-of-type {\n",
       "        vertical-align: middle;\n",
       "    }\n",
       "\n",
       "    .dataframe tbody tr th {\n",
       "        vertical-align: top;\n",
       "    }\n",
       "\n",
       "    .dataframe thead th {\n",
       "        text-align: right;\n",
       "    }\n",
       "</style>\n",
       "<table border=\"1\" class=\"dataframe\">\n",
       "  <thead>\n",
       "    <tr style=\"text-align: right;\">\n",
       "      <th></th>\n",
       "      <th>DEPARTMENT</th>\n",
       "      <th>SUBCATEGORY</th>\n",
       "      <th>IS_BESTSELLER</th>\n",
       "      <th>COLOR</th>\n",
       "      <th>PRICE_RETAIL</th>\n",
       "      <th>State</th>\n",
       "      <th>Age</th>\n",
       "      <th>month</th>\n",
       "      <th>day</th>\n",
       "    </tr>\n",
       "  </thead>\n",
       "  <tbody>\n",
       "    <tr>\n",
       "      <th>18069</th>\n",
       "      <td>0</td>\n",
       "      <td>0</td>\n",
       "      <td>0</td>\n",
       "      <td>591</td>\n",
       "      <td>25.95</td>\n",
       "      <td>39</td>\n",
       "      <td>66.0</td>\n",
       "      <td>7</td>\n",
       "      <td>23</td>\n",
       "    </tr>\n",
       "  </tbody>\n",
       "</table>\n",
       "</div>"
      ],
      "text/plain": [
       "       DEPARTMENT  SUBCATEGORY  IS_BESTSELLER  COLOR  PRICE_RETAIL  State  \\\n",
       "18069           0            0              0    591         25.95     39   \n",
       "\n",
       "        Age  month  day  \n",
       "18069  66.0      7   23  "
      ]
     },
     "execution_count": 78,
     "metadata": {},
     "output_type": "execute_result"
    }
   ],
   "source": [
    "test_data"
   ]
  },
  {
   "cell_type": "code",
   "execution_count": 79,
   "metadata": {},
   "outputs": [
    {
     "data": {
      "text/plain": [
       "array([165.28403478])"
      ]
     },
     "execution_count": 79,
     "metadata": {},
     "output_type": "execute_result"
    }
   ],
   "source": [
    "# Original revenue: 181.65\n",
    "model.predict(test_data)"
   ]
  }
 ],
 "metadata": {
  "kernelspec": {
   "display_name": "Python 3",
   "language": "python",
   "name": "python3"
  },
  "language_info": {
   "codemirror_mode": {
    "name": "ipython",
    "version": 3
   },
   "file_extension": ".py",
   "mimetype": "text/x-python",
   "name": "python",
   "nbconvert_exporter": "python",
   "pygments_lexer": "ipython3",
   "version": "3.11.5"
  }
 },
 "nbformat": 4,
 "nbformat_minor": 2
}
